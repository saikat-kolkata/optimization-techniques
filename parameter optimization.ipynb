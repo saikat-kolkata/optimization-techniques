{
 "cells": [
  {
   "cell_type": "markdown",
   "metadata": {},
   "source": [
    "4 Optimation techniques : \n",
    "Thnx to Abhishek Thakur : https://www.youtube.com/watch?v=5nYqK-HaoKY"
   ]
  },
  {
   "cell_type": "markdown",
   "metadata": {},
   "source": [
    "# GridSearchCV"
   ]
  },
  {
   "cell_type": "code",
   "execution_count": 1,
   "metadata": {},
   "outputs": [],
   "source": [
    "import pandas as pd\n",
    "import numpy as np\n",
    "from sklearn import ensemble\n",
    "from sklearn import metrics\n",
    "from sklearn import model_selection"
   ]
  },
  {
   "cell_type": "code",
   "execution_count": 2,
   "metadata": {},
   "outputs": [
    {
     "data": {
      "text/html": [
       "<div>\n",
       "<style scoped>\n",
       "    .dataframe tbody tr th:only-of-type {\n",
       "        vertical-align: middle;\n",
       "    }\n",
       "\n",
       "    .dataframe tbody tr th {\n",
       "        vertical-align: top;\n",
       "    }\n",
       "\n",
       "    .dataframe thead th {\n",
       "        text-align: right;\n",
       "    }\n",
       "</style>\n",
       "<table border=\"1\" class=\"dataframe\">\n",
       "  <thead>\n",
       "    <tr style=\"text-align: right;\">\n",
       "      <th></th>\n",
       "      <th>battery_power</th>\n",
       "      <th>blue</th>\n",
       "      <th>clock_speed</th>\n",
       "      <th>dual_sim</th>\n",
       "      <th>fc</th>\n",
       "      <th>four_g</th>\n",
       "      <th>int_memory</th>\n",
       "      <th>m_dep</th>\n",
       "      <th>mobile_wt</th>\n",
       "      <th>n_cores</th>\n",
       "      <th>...</th>\n",
       "      <th>px_height</th>\n",
       "      <th>px_width</th>\n",
       "      <th>ram</th>\n",
       "      <th>sc_h</th>\n",
       "      <th>sc_w</th>\n",
       "      <th>talk_time</th>\n",
       "      <th>three_g</th>\n",
       "      <th>touch_screen</th>\n",
       "      <th>wifi</th>\n",
       "      <th>price_range</th>\n",
       "    </tr>\n",
       "  </thead>\n",
       "  <tbody>\n",
       "    <tr>\n",
       "      <th>0</th>\n",
       "      <td>842</td>\n",
       "      <td>0</td>\n",
       "      <td>2.2</td>\n",
       "      <td>0</td>\n",
       "      <td>1</td>\n",
       "      <td>0</td>\n",
       "      <td>7</td>\n",
       "      <td>0.6</td>\n",
       "      <td>188</td>\n",
       "      <td>2</td>\n",
       "      <td>...</td>\n",
       "      <td>20</td>\n",
       "      <td>756</td>\n",
       "      <td>2549</td>\n",
       "      <td>9</td>\n",
       "      <td>7</td>\n",
       "      <td>19</td>\n",
       "      <td>0</td>\n",
       "      <td>0</td>\n",
       "      <td>1</td>\n",
       "      <td>1</td>\n",
       "    </tr>\n",
       "    <tr>\n",
       "      <th>1</th>\n",
       "      <td>1021</td>\n",
       "      <td>1</td>\n",
       "      <td>0.5</td>\n",
       "      <td>1</td>\n",
       "      <td>0</td>\n",
       "      <td>1</td>\n",
       "      <td>53</td>\n",
       "      <td>0.7</td>\n",
       "      <td>136</td>\n",
       "      <td>3</td>\n",
       "      <td>...</td>\n",
       "      <td>905</td>\n",
       "      <td>1988</td>\n",
       "      <td>2631</td>\n",
       "      <td>17</td>\n",
       "      <td>3</td>\n",
       "      <td>7</td>\n",
       "      <td>1</td>\n",
       "      <td>1</td>\n",
       "      <td>0</td>\n",
       "      <td>2</td>\n",
       "    </tr>\n",
       "    <tr>\n",
       "      <th>2</th>\n",
       "      <td>563</td>\n",
       "      <td>1</td>\n",
       "      <td>0.5</td>\n",
       "      <td>1</td>\n",
       "      <td>2</td>\n",
       "      <td>1</td>\n",
       "      <td>41</td>\n",
       "      <td>0.9</td>\n",
       "      <td>145</td>\n",
       "      <td>5</td>\n",
       "      <td>...</td>\n",
       "      <td>1263</td>\n",
       "      <td>1716</td>\n",
       "      <td>2603</td>\n",
       "      <td>11</td>\n",
       "      <td>2</td>\n",
       "      <td>9</td>\n",
       "      <td>1</td>\n",
       "      <td>1</td>\n",
       "      <td>0</td>\n",
       "      <td>2</td>\n",
       "    </tr>\n",
       "  </tbody>\n",
       "</table>\n",
       "<p>3 rows × 21 columns</p>\n",
       "</div>"
      ],
      "text/plain": [
       "   battery_power  blue  clock_speed  dual_sim  fc  four_g  int_memory  m_dep  \\\n",
       "0            842     0          2.2         0   1       0           7    0.6   \n",
       "1           1021     1          0.5         1   0       1          53    0.7   \n",
       "2            563     1          0.5         1   2       1          41    0.9   \n",
       "\n",
       "   mobile_wt  n_cores  ...  px_height  px_width   ram  sc_h  sc_w  talk_time  \\\n",
       "0        188        2  ...         20       756  2549     9     7         19   \n",
       "1        136        3  ...        905      1988  2631    17     3          7   \n",
       "2        145        5  ...       1263      1716  2603    11     2          9   \n",
       "\n",
       "   three_g  touch_screen  wifi  price_range  \n",
       "0        0             0     1            1  \n",
       "1        1             1     0            2  \n",
       "2        1             1     0            2  \n",
       "\n",
       "[3 rows x 21 columns]"
      ]
     },
     "execution_count": 2,
     "metadata": {},
     "output_type": "execute_result"
    }
   ],
   "source": [
    "df = pd.read_csv('train.csv')\n",
    "df.head(3)"
   ]
  },
  {
   "cell_type": "code",
   "execution_count": 3,
   "metadata": {},
   "outputs": [],
   "source": [
    "X = df.drop('price_range',axis=1).values\n",
    "y = df.price_range.values"
   ]
  },
  {
   "cell_type": "code",
   "execution_count": 6,
   "metadata": {},
   "outputs": [],
   "source": [
    "classifier = ensemble.RandomForestClassifier(n_jobs=-1)\n",
    "param_grid = {\n",
    "        'n_estimators':[100,200,300,400],\n",
    "        'max_depth':[3,5,7],\n",
    "        'criterion':['gini','entropy'],\n",
    "        }"
   ]
  },
  {
   "cell_type": "code",
   "execution_count": 8,
   "metadata": {},
   "outputs": [
    {
     "name": "stdout",
     "output_type": "stream",
     "text": [
      "Fitting 5 folds for each of 24 candidates, totalling 120 fits\n",
      "[CV] criterion=gini, max_depth=3, n_estimators=100 ...................\n"
     ]
    },
    {
     "name": "stderr",
     "output_type": "stream",
     "text": [
      "[Parallel(n_jobs=1)]: Using backend SequentialBackend with 1 concurrent workers.\n"
     ]
    },
    {
     "name": "stdout",
     "output_type": "stream",
     "text": [
      "[CV]  criterion=gini, max_depth=3, n_estimators=100, score=0.782, total=   4.7s\n",
      "[CV] criterion=gini, max_depth=3, n_estimators=100 ...................\n"
     ]
    },
    {
     "name": "stderr",
     "output_type": "stream",
     "text": [
      "[Parallel(n_jobs=1)]: Done   1 out of   1 | elapsed:    4.6s remaining:    0.0s\n"
     ]
    },
    {
     "name": "stdout",
     "output_type": "stream",
     "text": [
      "[CV]  criterion=gini, max_depth=3, n_estimators=100, score=0.760, total=   0.3s\n",
      "[CV] criterion=gini, max_depth=3, n_estimators=100 ...................\n"
     ]
    },
    {
     "name": "stderr",
     "output_type": "stream",
     "text": [
      "[Parallel(n_jobs=1)]: Done   2 out of   2 | elapsed:    5.0s remaining:    0.0s\n"
     ]
    },
    {
     "name": "stdout",
     "output_type": "stream",
     "text": [
      "[CV]  criterion=gini, max_depth=3, n_estimators=100, score=0.823, total=   0.3s\n",
      "[CV] criterion=gini, max_depth=3, n_estimators=100 ...................\n"
     ]
    },
    {
     "name": "stderr",
     "output_type": "stream",
     "text": [
      "[Parallel(n_jobs=1)]: Done   3 out of   3 | elapsed:    5.3s remaining:    0.0s\n"
     ]
    },
    {
     "name": "stdout",
     "output_type": "stream",
     "text": [
      "[CV]  criterion=gini, max_depth=3, n_estimators=100, score=0.800, total=   0.3s\n",
      "[CV] criterion=gini, max_depth=3, n_estimators=100 ...................\n"
     ]
    },
    {
     "name": "stderr",
     "output_type": "stream",
     "text": [
      "[Parallel(n_jobs=1)]: Done   4 out of   4 | elapsed:    5.6s remaining:    0.0s\n"
     ]
    },
    {
     "name": "stdout",
     "output_type": "stream",
     "text": [
      "[CV]  criterion=gini, max_depth=3, n_estimators=100, score=0.787, total=   0.3s\n",
      "[CV] criterion=gini, max_depth=3, n_estimators=200 ...................\n"
     ]
    },
    {
     "name": "stderr",
     "output_type": "stream",
     "text": [
      "[Parallel(n_jobs=1)]: Done   5 out of   5 | elapsed:    5.9s remaining:    0.0s\n"
     ]
    },
    {
     "name": "stdout",
     "output_type": "stream",
     "text": [
      "[CV]  criterion=gini, max_depth=3, n_estimators=200, score=0.807, total=   0.6s\n",
      "[CV] criterion=gini, max_depth=3, n_estimators=200 ...................\n"
     ]
    },
    {
     "name": "stderr",
     "output_type": "stream",
     "text": [
      "[Parallel(n_jobs=1)]: Done   6 out of   6 | elapsed:    6.4s remaining:    0.0s\n"
     ]
    },
    {
     "name": "stdout",
     "output_type": "stream",
     "text": [
      "[CV]  criterion=gini, max_depth=3, n_estimators=200, score=0.775, total=   0.5s\n",
      "[CV] criterion=gini, max_depth=3, n_estimators=200 ...................\n"
     ]
    },
    {
     "name": "stderr",
     "output_type": "stream",
     "text": [
      "[Parallel(n_jobs=1)]: Done   7 out of   7 | elapsed:    6.9s remaining:    0.0s\n"
     ]
    },
    {
     "name": "stdout",
     "output_type": "stream",
     "text": [
      "[CV]  criterion=gini, max_depth=3, n_estimators=200, score=0.833, total=   0.5s\n",
      "[CV] criterion=gini, max_depth=3, n_estimators=200 ...................\n"
     ]
    },
    {
     "name": "stderr",
     "output_type": "stream",
     "text": [
      "[Parallel(n_jobs=1)]: Done   8 out of   8 | elapsed:    7.4s remaining:    0.0s\n"
     ]
    },
    {
     "name": "stdout",
     "output_type": "stream",
     "text": [
      "[CV]  criterion=gini, max_depth=3, n_estimators=200, score=0.810, total=   0.5s\n",
      "[CV] criterion=gini, max_depth=3, n_estimators=200 ...................\n"
     ]
    },
    {
     "name": "stderr",
     "output_type": "stream",
     "text": [
      "[Parallel(n_jobs=1)]: Done   9 out of   9 | elapsed:    7.9s remaining:    0.0s\n"
     ]
    },
    {
     "name": "stdout",
     "output_type": "stream",
     "text": [
      "[CV]  criterion=gini, max_depth=3, n_estimators=200, score=0.800, total=   0.5s\n",
      "[CV] criterion=gini, max_depth=3, n_estimators=300 ...................\n",
      "[CV]  criterion=gini, max_depth=3, n_estimators=300, score=0.800, total=   0.8s\n",
      "[CV] criterion=gini, max_depth=3, n_estimators=300 ...................\n",
      "[CV]  criterion=gini, max_depth=3, n_estimators=300, score=0.780, total=   0.8s\n",
      "[CV] criterion=gini, max_depth=3, n_estimators=300 ...................\n",
      "[CV]  criterion=gini, max_depth=3, n_estimators=300, score=0.823, total=   0.9s\n",
      "[CV] criterion=gini, max_depth=3, n_estimators=300 ...................\n",
      "[CV]  criterion=gini, max_depth=3, n_estimators=300, score=0.805, total=   0.8s\n",
      "[CV] criterion=gini, max_depth=3, n_estimators=300 ...................\n",
      "[CV]  criterion=gini, max_depth=3, n_estimators=300, score=0.795, total=   0.8s\n",
      "[CV] criterion=gini, max_depth=3, n_estimators=400 ...................\n",
      "[CV]  criterion=gini, max_depth=3, n_estimators=400, score=0.787, total=   0.9s\n",
      "[CV] criterion=gini, max_depth=3, n_estimators=400 ...................\n",
      "[CV]  criterion=gini, max_depth=3, n_estimators=400, score=0.802, total=   1.0s\n",
      "[CV] criterion=gini, max_depth=3, n_estimators=400 ...................\n",
      "[CV]  criterion=gini, max_depth=3, n_estimators=400, score=0.830, total=   1.0s\n",
      "[CV] criterion=gini, max_depth=3, n_estimators=400 ...................\n",
      "[CV]  criterion=gini, max_depth=3, n_estimators=400, score=0.802, total=   0.9s\n",
      "[CV] criterion=gini, max_depth=3, n_estimators=400 ...................\n",
      "[CV]  criterion=gini, max_depth=3, n_estimators=400, score=0.795, total=   0.9s\n",
      "[CV] criterion=gini, max_depth=5, n_estimators=100 ...................\n",
      "[CV]  criterion=gini, max_depth=5, n_estimators=100, score=0.823, total=   0.4s\n",
      "[CV] criterion=gini, max_depth=5, n_estimators=100 ...................\n",
      "[CV]  criterion=gini, max_depth=5, n_estimators=100, score=0.833, total=   0.3s\n",
      "[CV] criterion=gini, max_depth=5, n_estimators=100 ...................\n",
      "[CV]  criterion=gini, max_depth=5, n_estimators=100, score=0.865, total=   0.3s\n",
      "[CV] criterion=gini, max_depth=5, n_estimators=100 ...................\n",
      "[CV]  criterion=gini, max_depth=5, n_estimators=100, score=0.833, total=   0.3s\n",
      "[CV] criterion=gini, max_depth=5, n_estimators=100 ...................\n",
      "[CV]  criterion=gini, max_depth=5, n_estimators=100, score=0.843, total=   0.3s\n",
      "[CV] criterion=gini, max_depth=5, n_estimators=200 ...................\n",
      "[CV]  criterion=gini, max_depth=5, n_estimators=200, score=0.845, total=   0.6s\n",
      "[CV] criterion=gini, max_depth=5, n_estimators=200 ...................\n",
      "[CV]  criterion=gini, max_depth=5, n_estimators=200, score=0.840, total=   0.5s\n",
      "[CV] criterion=gini, max_depth=5, n_estimators=200 ...................\n",
      "[CV]  criterion=gini, max_depth=5, n_estimators=200, score=0.850, total=   0.6s\n",
      "[CV] criterion=gini, max_depth=5, n_estimators=200 ...................\n",
      "[CV]  criterion=gini, max_depth=5, n_estimators=200, score=0.838, total=   0.5s\n",
      "[CV] criterion=gini, max_depth=5, n_estimators=200 ...................\n",
      "[CV]  criterion=gini, max_depth=5, n_estimators=200, score=0.820, total=   0.6s\n",
      "[CV] criterion=gini, max_depth=5, n_estimators=300 ...................\n",
      "[CV]  criterion=gini, max_depth=5, n_estimators=300, score=0.828, total=   0.8s\n",
      "[CV] criterion=gini, max_depth=5, n_estimators=300 ...................\n",
      "[CV]  criterion=gini, max_depth=5, n_estimators=300, score=0.840, total=   0.8s\n",
      "[CV] criterion=gini, max_depth=5, n_estimators=300 ...................\n",
      "[CV]  criterion=gini, max_depth=5, n_estimators=300, score=0.858, total=   0.8s\n",
      "[CV] criterion=gini, max_depth=5, n_estimators=300 ...................\n",
      "[CV]  criterion=gini, max_depth=5, n_estimators=300, score=0.825, total=   0.8s\n",
      "[CV] criterion=gini, max_depth=5, n_estimators=300 ...................\n",
      "[CV]  criterion=gini, max_depth=5, n_estimators=300, score=0.823, total=   0.8s\n",
      "[CV] criterion=gini, max_depth=5, n_estimators=400 ...................\n",
      "[CV]  criterion=gini, max_depth=5, n_estimators=400, score=0.838, total=   1.1s\n",
      "[CV] criterion=gini, max_depth=5, n_estimators=400 ...................\n",
      "[CV]  criterion=gini, max_depth=5, n_estimators=400, score=0.843, total=   1.1s\n",
      "[CV] criterion=gini, max_depth=5, n_estimators=400 ...................\n",
      "[CV]  criterion=gini, max_depth=5, n_estimators=400, score=0.855, total=   1.0s\n",
      "[CV] criterion=gini, max_depth=5, n_estimators=400 ...................\n",
      "[CV]  criterion=gini, max_depth=5, n_estimators=400, score=0.835, total=   1.1s\n",
      "[CV] criterion=gini, max_depth=5, n_estimators=400 ...................\n",
      "[CV]  criterion=gini, max_depth=5, n_estimators=400, score=0.820, total=   1.0s\n",
      "[CV] criterion=gini, max_depth=7, n_estimators=100 ...................\n",
      "[CV]  criterion=gini, max_depth=7, n_estimators=100, score=0.880, total=   0.3s\n",
      "[CV] criterion=gini, max_depth=7, n_estimators=100 ...................\n",
      "[CV]  criterion=gini, max_depth=7, n_estimators=100, score=0.855, total=   0.3s\n",
      "[CV] criterion=gini, max_depth=7, n_estimators=100 ...................\n",
      "[CV]  criterion=gini, max_depth=7, n_estimators=100, score=0.887, total=   0.3s\n",
      "[CV] criterion=gini, max_depth=7, n_estimators=100 ...................\n",
      "[CV]  criterion=gini, max_depth=7, n_estimators=100, score=0.863, total=   0.4s\n",
      "[CV] criterion=gini, max_depth=7, n_estimators=100 ...................\n",
      "[CV]  criterion=gini, max_depth=7, n_estimators=100, score=0.828, total=   0.3s\n",
      "[CV] criterion=gini, max_depth=7, n_estimators=200 ...................\n",
      "[CV]  criterion=gini, max_depth=7, n_estimators=200, score=0.858, total=   0.7s\n",
      "[CV] criterion=gini, max_depth=7, n_estimators=200 ...................\n",
      "[CV]  criterion=gini, max_depth=7, n_estimators=200, score=0.870, total=   0.7s\n",
      "[CV] criterion=gini, max_depth=7, n_estimators=200 ...................\n",
      "[CV]  criterion=gini, max_depth=7, n_estimators=200, score=0.887, total=   0.7s\n",
      "[CV] criterion=gini, max_depth=7, n_estimators=200 ...................\n",
      "[CV]  criterion=gini, max_depth=7, n_estimators=200, score=0.863, total=   0.6s\n",
      "[CV] criterion=gini, max_depth=7, n_estimators=200 ...................\n",
      "[CV]  criterion=gini, max_depth=7, n_estimators=200, score=0.835, total=   0.7s\n",
      "[CV] criterion=gini, max_depth=7, n_estimators=300 ...................\n",
      "[CV]  criterion=gini, max_depth=7, n_estimators=300, score=0.855, total=   1.0s\n",
      "[CV] criterion=gini, max_depth=7, n_estimators=300 ...................\n",
      "[CV]  criterion=gini, max_depth=7, n_estimators=300, score=0.882, total=   0.9s\n",
      "[CV] criterion=gini, max_depth=7, n_estimators=300 ...................\n",
      "[CV]  criterion=gini, max_depth=7, n_estimators=300, score=0.890, total=   0.9s\n",
      "[CV] criterion=gini, max_depth=7, n_estimators=300 ...................\n",
      "[CV]  criterion=gini, max_depth=7, n_estimators=300, score=0.858, total=   1.0s\n",
      "[CV] criterion=gini, max_depth=7, n_estimators=300 ...................\n",
      "[CV]  criterion=gini, max_depth=7, n_estimators=300, score=0.838, total=   0.9s\n",
      "[CV] criterion=gini, max_depth=7, n_estimators=400 ...................\n",
      "[CV]  criterion=gini, max_depth=7, n_estimators=400, score=0.863, total=   1.3s\n",
      "[CV] criterion=gini, max_depth=7, n_estimators=400 ...................\n",
      "[CV]  criterion=gini, max_depth=7, n_estimators=400, score=0.863, total=   1.1s\n",
      "[CV] criterion=gini, max_depth=7, n_estimators=400 ...................\n",
      "[CV]  criterion=gini, max_depth=7, n_estimators=400, score=0.882, total=   1.1s\n",
      "[CV] criterion=gini, max_depth=7, n_estimators=400 ...................\n",
      "[CV]  criterion=gini, max_depth=7, n_estimators=400, score=0.865, total=   1.2s\n",
      "[CV] criterion=gini, max_depth=7, n_estimators=400 ...................\n",
      "[CV]  criterion=gini, max_depth=7, n_estimators=400, score=0.848, total=   1.2s\n",
      "[CV] criterion=entropy, max_depth=3, n_estimators=100 ................\n",
      "[CV]  criterion=entropy, max_depth=3, n_estimators=100, score=0.730, total=   0.3s\n",
      "[CV] criterion=entropy, max_depth=3, n_estimators=100 ................\n",
      "[CV]  criterion=entropy, max_depth=3, n_estimators=100, score=0.765, total=   0.3s\n",
      "[CV] criterion=entropy, max_depth=3, n_estimators=100 ................\n",
      "[CV]  criterion=entropy, max_depth=3, n_estimators=100, score=0.820, total=   0.3s\n",
      "[CV] criterion=entropy, max_depth=3, n_estimators=100 ................\n",
      "[CV]  criterion=entropy, max_depth=3, n_estimators=100, score=0.750, total=   0.3s\n",
      "[CV] criterion=entropy, max_depth=3, n_estimators=100 ................\n"
     ]
    },
    {
     "name": "stdout",
     "output_type": "stream",
     "text": [
      "[CV]  criterion=entropy, max_depth=3, n_estimators=100, score=0.755, total=   0.3s\n",
      "[CV] criterion=entropy, max_depth=3, n_estimators=200 ................\n",
      "[CV]  criterion=entropy, max_depth=3, n_estimators=200, score=0.775, total=   0.5s\n",
      "[CV] criterion=entropy, max_depth=3, n_estimators=200 ................\n",
      "[CV]  criterion=entropy, max_depth=3, n_estimators=200, score=0.765, total=   0.5s\n",
      "[CV] criterion=entropy, max_depth=3, n_estimators=200 ................\n",
      "[CV]  criterion=entropy, max_depth=3, n_estimators=200, score=0.772, total=   0.5s\n",
      "[CV] criterion=entropy, max_depth=3, n_estimators=200 ................\n",
      "[CV]  criterion=entropy, max_depth=3, n_estimators=200, score=0.805, total=   0.5s\n",
      "[CV] criterion=entropy, max_depth=3, n_estimators=200 ................\n",
      "[CV]  criterion=entropy, max_depth=3, n_estimators=200, score=0.723, total=   0.5s\n",
      "[CV] criterion=entropy, max_depth=3, n_estimators=300 ................\n",
      "[CV]  criterion=entropy, max_depth=3, n_estimators=300, score=0.775, total=   1.0s\n",
      "[CV] criterion=entropy, max_depth=3, n_estimators=300 ................\n",
      "[CV]  criterion=entropy, max_depth=3, n_estimators=300, score=0.755, total=   0.9s\n",
      "[CV] criterion=entropy, max_depth=3, n_estimators=300 ................\n",
      "[CV]  criterion=entropy, max_depth=3, n_estimators=300, score=0.780, total=   0.9s\n",
      "[CV] criterion=entropy, max_depth=3, n_estimators=300 ................\n",
      "[CV]  criterion=entropy, max_depth=3, n_estimators=300, score=0.767, total=   0.9s\n",
      "[CV] criterion=entropy, max_depth=3, n_estimators=300 ................\n",
      "[CV]  criterion=entropy, max_depth=3, n_estimators=300, score=0.800, total=   1.0s\n",
      "[CV] criterion=entropy, max_depth=3, n_estimators=400 ................\n",
      "[CV]  criterion=entropy, max_depth=3, n_estimators=400, score=0.772, total=   1.2s\n",
      "[CV] criterion=entropy, max_depth=3, n_estimators=400 ................\n",
      "[CV]  criterion=entropy, max_depth=3, n_estimators=400, score=0.743, total=   1.2s\n",
      "[CV] criterion=entropy, max_depth=3, n_estimators=400 ................\n",
      "[CV]  criterion=entropy, max_depth=3, n_estimators=400, score=0.787, total=   1.1s\n",
      "[CV] criterion=entropy, max_depth=3, n_estimators=400 ................\n",
      "[CV]  criterion=entropy, max_depth=3, n_estimators=400, score=0.805, total=   1.2s\n",
      "[CV] criterion=entropy, max_depth=3, n_estimators=400 ................\n",
      "[CV]  criterion=entropy, max_depth=3, n_estimators=400, score=0.750, total=   1.3s\n",
      "[CV] criterion=entropy, max_depth=5, n_estimators=100 ................\n",
      "[CV]  criterion=entropy, max_depth=5, n_estimators=100, score=0.825, total=   0.4s\n",
      "[CV] criterion=entropy, max_depth=5, n_estimators=100 ................\n",
      "[CV]  criterion=entropy, max_depth=5, n_estimators=100, score=0.838, total=   0.4s\n",
      "[CV] criterion=entropy, max_depth=5, n_estimators=100 ................\n",
      "[CV]  criterion=entropy, max_depth=5, n_estimators=100, score=0.860, total=   0.4s\n",
      "[CV] criterion=entropy, max_depth=5, n_estimators=100 ................\n",
      "[CV]  criterion=entropy, max_depth=5, n_estimators=100, score=0.840, total=   0.4s\n",
      "[CV] criterion=entropy, max_depth=5, n_estimators=100 ................\n",
      "[CV]  criterion=entropy, max_depth=5, n_estimators=100, score=0.815, total=   0.4s\n",
      "[CV] criterion=entropy, max_depth=5, n_estimators=200 ................\n",
      "[CV]  criterion=entropy, max_depth=5, n_estimators=200, score=0.830, total=   0.8s\n",
      "[CV] criterion=entropy, max_depth=5, n_estimators=200 ................\n",
      "[CV]  criterion=entropy, max_depth=5, n_estimators=200, score=0.840, total=   0.8s\n",
      "[CV] criterion=entropy, max_depth=5, n_estimators=200 ................\n",
      "[CV]  criterion=entropy, max_depth=5, n_estimators=200, score=0.858, total=   0.8s\n",
      "[CV] criterion=entropy, max_depth=5, n_estimators=200 ................\n",
      "[CV]  criterion=entropy, max_depth=5, n_estimators=200, score=0.840, total=   0.7s\n",
      "[CV] criterion=entropy, max_depth=5, n_estimators=200 ................\n",
      "[CV]  criterion=entropy, max_depth=5, n_estimators=200, score=0.843, total=   0.7s\n",
      "[CV] criterion=entropy, max_depth=5, n_estimators=300 ................\n",
      "[CV]  criterion=entropy, max_depth=5, n_estimators=300, score=0.848, total=   1.1s\n",
      "[CV] criterion=entropy, max_depth=5, n_estimators=300 ................\n",
      "[CV]  criterion=entropy, max_depth=5, n_estimators=300, score=0.843, total=   1.0s\n",
      "[CV] criterion=entropy, max_depth=5, n_estimators=300 ................\n",
      "[CV]  criterion=entropy, max_depth=5, n_estimators=300, score=0.868, total=   0.9s\n",
      "[CV] criterion=entropy, max_depth=5, n_estimators=300 ................\n",
      "[CV]  criterion=entropy, max_depth=5, n_estimators=300, score=0.818, total=   0.9s\n",
      "[CV] criterion=entropy, max_depth=5, n_estimators=300 ................\n",
      "[CV]  criterion=entropy, max_depth=5, n_estimators=300, score=0.835, total=   0.9s\n",
      "[CV] criterion=entropy, max_depth=5, n_estimators=400 ................\n",
      "[CV]  criterion=entropy, max_depth=5, n_estimators=400, score=0.838, total=   1.2s\n",
      "[CV] criterion=entropy, max_depth=5, n_estimators=400 ................\n",
      "[CV]  criterion=entropy, max_depth=5, n_estimators=400, score=0.833, total=   1.2s\n",
      "[CV] criterion=entropy, max_depth=5, n_estimators=400 ................\n",
      "[CV]  criterion=entropy, max_depth=5, n_estimators=400, score=0.870, total=   1.2s\n",
      "[CV] criterion=entropy, max_depth=5, n_estimators=400 ................\n",
      "[CV]  criterion=entropy, max_depth=5, n_estimators=400, score=0.833, total=   1.2s\n",
      "[CV] criterion=entropy, max_depth=5, n_estimators=400 ................\n",
      "[CV]  criterion=entropy, max_depth=5, n_estimators=400, score=0.843, total=   1.2s\n",
      "[CV] criterion=entropy, max_depth=7, n_estimators=100 ................\n",
      "[CV]  criterion=entropy, max_depth=7, n_estimators=100, score=0.865, total=   0.3s\n",
      "[CV] criterion=entropy, max_depth=7, n_estimators=100 ................\n",
      "[CV]  criterion=entropy, max_depth=7, n_estimators=100, score=0.860, total=   0.4s\n",
      "[CV] criterion=entropy, max_depth=7, n_estimators=100 ................\n",
      "[CV]  criterion=entropy, max_depth=7, n_estimators=100, score=0.860, total=   0.4s\n",
      "[CV] criterion=entropy, max_depth=7, n_estimators=100 ................\n",
      "[CV]  criterion=entropy, max_depth=7, n_estimators=100, score=0.855, total=   0.4s\n",
      "[CV] criterion=entropy, max_depth=7, n_estimators=100 ................\n",
      "[CV]  criterion=entropy, max_depth=7, n_estimators=100, score=0.845, total=   0.4s\n",
      "[CV] criterion=entropy, max_depth=7, n_estimators=200 ................\n",
      "[CV]  criterion=entropy, max_depth=7, n_estimators=200, score=0.865, total=   0.7s\n",
      "[CV] criterion=entropy, max_depth=7, n_estimators=200 ................\n",
      "[CV]  criterion=entropy, max_depth=7, n_estimators=200, score=0.870, total=   0.8s\n",
      "[CV] criterion=entropy, max_depth=7, n_estimators=200 ................\n",
      "[CV]  criterion=entropy, max_depth=7, n_estimators=200, score=0.905, total=   0.7s\n",
      "[CV] criterion=entropy, max_depth=7, n_estimators=200 ................\n",
      "[CV]  criterion=entropy, max_depth=7, n_estimators=200, score=0.843, total=   0.7s\n",
      "[CV] criterion=entropy, max_depth=7, n_estimators=200 ................\n",
      "[CV]  criterion=entropy, max_depth=7, n_estimators=200, score=0.848, total=   0.7s\n",
      "[CV] criterion=entropy, max_depth=7, n_estimators=300 ................\n",
      "[CV]  criterion=entropy, max_depth=7, n_estimators=300, score=0.860, total=   1.2s\n",
      "[CV] criterion=entropy, max_depth=7, n_estimators=300 ................\n",
      "[CV]  criterion=entropy, max_depth=7, n_estimators=300, score=0.855, total=   1.1s\n",
      "[CV] criterion=entropy, max_depth=7, n_estimators=300 ................\n",
      "[CV]  criterion=entropy, max_depth=7, n_estimators=300, score=0.900, total=   1.1s\n",
      "[CV] criterion=entropy, max_depth=7, n_estimators=300 ................\n",
      "[CV]  criterion=entropy, max_depth=7, n_estimators=300, score=0.840, total=   1.0s\n",
      "[CV] criterion=entropy, max_depth=7, n_estimators=300 ................\n",
      "[CV]  criterion=entropy, max_depth=7, n_estimators=300, score=0.863, total=   1.0s\n",
      "[CV] criterion=entropy, max_depth=7, n_estimators=400 ................\n",
      "[CV]  criterion=entropy, max_depth=7, n_estimators=400, score=0.880, total=   1.3s\n",
      "[CV] criterion=entropy, max_depth=7, n_estimators=400 ................\n",
      "[CV]  criterion=entropy, max_depth=7, n_estimators=400, score=0.855, total=   1.3s\n",
      "[CV] criterion=entropy, max_depth=7, n_estimators=400 ................\n",
      "[CV]  criterion=entropy, max_depth=7, n_estimators=400, score=0.890, total=   1.3s\n",
      "[CV] criterion=entropy, max_depth=7, n_estimators=400 ................\n"
     ]
    },
    {
     "name": "stdout",
     "output_type": "stream",
     "text": [
      "[CV]  criterion=entropy, max_depth=7, n_estimators=400, score=0.858, total=   1.4s\n",
      "[CV] criterion=entropy, max_depth=7, n_estimators=400 ................\n",
      "[CV]  criterion=entropy, max_depth=7, n_estimators=400, score=0.843, total=   1.5s\n"
     ]
    },
    {
     "name": "stderr",
     "output_type": "stream",
     "text": [
      "[Parallel(n_jobs=1)]: Done 120 out of 120 | elapsed:  1.6min finished\n"
     ]
    },
    {
     "data": {
      "text/plain": [
       "GridSearchCV(cv=5, estimator=RandomForestClassifier(n_jobs=-1), n_jobs=1,\n",
       "             param_grid={'criterion': ['gini', 'entropy'],\n",
       "                         'max_depth': [3, 5, 7],\n",
       "                         'n_estimators': [100, 200, 300, 400]},\n",
       "             scoring='accuracy', verbose=10)"
      ]
     },
     "execution_count": 8,
     "metadata": {},
     "output_type": "execute_result"
    }
   ],
   "source": [
    "model = model_selection.GridSearchCV(\n",
    "    estimator=classifier,\n",
    "    param_grid=param_grid,\n",
    "    scoring='accuracy',\n",
    "    verbose=10,\n",
    "    n_jobs=1,\n",
    "    cv=5,\n",
    "    #n_iter=10 ## 10 random iteration or random search (optional)\n",
    ")\n",
    "model.fit(X,y)"
   ]
  },
  {
   "cell_type": "code",
   "execution_count": 9,
   "metadata": {},
   "outputs": [
    {
     "data": {
      "text/plain": [
       "0.866"
      ]
     },
     "execution_count": 9,
     "metadata": {},
     "output_type": "execute_result"
    }
   ],
   "source": [
    "model.best_score_"
   ]
  },
  {
   "cell_type": "code",
   "execution_count": 10,
   "metadata": {},
   "outputs": [
    {
     "data": {
      "text/plain": [
       "{'bootstrap': True,\n",
       " 'ccp_alpha': 0.0,\n",
       " 'class_weight': None,\n",
       " 'criterion': 'entropy',\n",
       " 'max_depth': 7,\n",
       " 'max_features': 'auto',\n",
       " 'max_leaf_nodes': None,\n",
       " 'max_samples': None,\n",
       " 'min_impurity_decrease': 0.0,\n",
       " 'min_impurity_split': None,\n",
       " 'min_samples_leaf': 1,\n",
       " 'min_samples_split': 2,\n",
       " 'min_weight_fraction_leaf': 0.0,\n",
       " 'n_estimators': 200,\n",
       " 'n_jobs': -1,\n",
       " 'oob_score': False,\n",
       " 'random_state': None,\n",
       " 'verbose': 0,\n",
       " 'warm_start': False}"
      ]
     },
     "execution_count": 10,
     "metadata": {},
     "output_type": "execute_result"
    }
   ],
   "source": [
    "model.best_estimator_.get_params()"
   ]
  },
  {
   "cell_type": "markdown",
   "metadata": {},
   "source": [
    "# Pipeline"
   ]
  },
  {
   "cell_type": "code",
   "execution_count": 4,
   "metadata": {},
   "outputs": [],
   "source": [
    "from sklearn import preprocessing, decomposition, pipeline"
   ]
  },
  {
   "cell_type": "code",
   "execution_count": 5,
   "metadata": {},
   "outputs": [],
   "source": [
    "sca = preprocessing.StandardScaler()\n",
    "pca = decomposition.PCA()"
   ]
  },
  {
   "cell_type": "code",
   "execution_count": 6,
   "metadata": {},
   "outputs": [],
   "source": [
    "rf = ensemble.RandomForestClassifier(n_jobs=-1)"
   ]
  },
  {
   "cell_type": "code",
   "execution_count": 7,
   "metadata": {},
   "outputs": [],
   "source": [
    "classifier = pipeline.Pipeline([('scaling',sca),('pca',pca),('rf',rf)])"
   ]
  },
  {
   "cell_type": "code",
   "execution_count": 31,
   "metadata": {},
   "outputs": [],
   "source": [
    "param_grid = {\n",
    "        'pca__n_components':np.arange(5,10),\n",
    "        'rf__n_estimators':np.arange(100,1500,100),\n",
    "        'rf__max_depth':np.arange(1,20),\n",
    "        'rf__criterion':['gini','entropy'],\n",
    "        }"
   ]
  },
  {
   "cell_type": "code",
   "execution_count": 32,
   "metadata": {},
   "outputs": [
    {
     "name": "stdout",
     "output_type": "stream",
     "text": [
      "Fitting 5 folds for each of 10 candidates, totalling 50 fits\n",
      "[CV] rf__n_estimators=800, rf__max_depth=19, rf__criterion=gini, pca__n_components=8 \n"
     ]
    },
    {
     "name": "stderr",
     "output_type": "stream",
     "text": [
      "[Parallel(n_jobs=1)]: Using backend SequentialBackend with 1 concurrent workers.\n"
     ]
    },
    {
     "name": "stdout",
     "output_type": "stream",
     "text": [
      "[CV]  rf__n_estimators=800, rf__max_depth=19, rf__criterion=gini, pca__n_components=8, score=0.390, total=   8.8s\n",
      "[CV] rf__n_estimators=800, rf__max_depth=19, rf__criterion=gini, pca__n_components=8 \n"
     ]
    },
    {
     "name": "stderr",
     "output_type": "stream",
     "text": [
      "[Parallel(n_jobs=1)]: Done   1 out of   1 | elapsed:    8.7s remaining:    0.0s\n"
     ]
    },
    {
     "name": "stdout",
     "output_type": "stream",
     "text": [
      "[CV]  rf__n_estimators=800, rf__max_depth=19, rf__criterion=gini, pca__n_components=8, score=0.430, total=   3.0s\n",
      "[CV] rf__n_estimators=800, rf__max_depth=19, rf__criterion=gini, pca__n_components=8 \n"
     ]
    },
    {
     "name": "stderr",
     "output_type": "stream",
     "text": [
      "[Parallel(n_jobs=1)]: Done   2 out of   2 | elapsed:   11.8s remaining:    0.0s\n"
     ]
    },
    {
     "name": "stdout",
     "output_type": "stream",
     "text": [
      "[CV]  rf__n_estimators=800, rf__max_depth=19, rf__criterion=gini, pca__n_components=8, score=0.385, total=   3.9s\n",
      "[CV] rf__n_estimators=800, rf__max_depth=19, rf__criterion=gini, pca__n_components=8 \n"
     ]
    },
    {
     "name": "stderr",
     "output_type": "stream",
     "text": [
      "[Parallel(n_jobs=1)]: Done   3 out of   3 | elapsed:   15.7s remaining:    0.0s\n"
     ]
    },
    {
     "name": "stdout",
     "output_type": "stream",
     "text": [
      "[CV]  rf__n_estimators=800, rf__max_depth=19, rf__criterion=gini, pca__n_components=8, score=0.415, total=   3.4s\n",
      "[CV] rf__n_estimators=800, rf__max_depth=19, rf__criterion=gini, pca__n_components=8 \n"
     ]
    },
    {
     "name": "stderr",
     "output_type": "stream",
     "text": [
      "[Parallel(n_jobs=1)]: Done   4 out of   4 | elapsed:   19.2s remaining:    0.0s\n"
     ]
    },
    {
     "name": "stdout",
     "output_type": "stream",
     "text": [
      "[CV]  rf__n_estimators=800, rf__max_depth=19, rf__criterion=gini, pca__n_components=8, score=0.417, total=   3.6s\n",
      "[CV] rf__n_estimators=1000, rf__max_depth=12, rf__criterion=entropy, pca__n_components=9 \n"
     ]
    },
    {
     "name": "stderr",
     "output_type": "stream",
     "text": [
      "[Parallel(n_jobs=1)]: Done   5 out of   5 | elapsed:   22.8s remaining:    0.0s\n"
     ]
    },
    {
     "name": "stdout",
     "output_type": "stream",
     "text": [
      "[CV]  rf__n_estimators=1000, rf__max_depth=12, rf__criterion=entropy, pca__n_components=9, score=0.405, total=   7.6s\n",
      "[CV] rf__n_estimators=1000, rf__max_depth=12, rf__criterion=entropy, pca__n_components=9 \n"
     ]
    },
    {
     "name": "stderr",
     "output_type": "stream",
     "text": [
      "[Parallel(n_jobs=1)]: Done   6 out of   6 | elapsed:   30.3s remaining:    0.0s\n"
     ]
    },
    {
     "name": "stdout",
     "output_type": "stream",
     "text": [
      "[CV]  rf__n_estimators=1000, rf__max_depth=12, rf__criterion=entropy, pca__n_components=9, score=0.465, total=   6.4s\n",
      "[CV] rf__n_estimators=1000, rf__max_depth=12, rf__criterion=entropy, pca__n_components=9 \n"
     ]
    },
    {
     "name": "stderr",
     "output_type": "stream",
     "text": [
      "[Parallel(n_jobs=1)]: Done   7 out of   7 | elapsed:   36.8s remaining:    0.0s\n"
     ]
    },
    {
     "name": "stdout",
     "output_type": "stream",
     "text": [
      "[CV]  rf__n_estimators=1000, rf__max_depth=12, rf__criterion=entropy, pca__n_components=9, score=0.460, total=   6.1s\n",
      "[CV] rf__n_estimators=1000, rf__max_depth=12, rf__criterion=entropy, pca__n_components=9 \n"
     ]
    },
    {
     "name": "stderr",
     "output_type": "stream",
     "text": [
      "[Parallel(n_jobs=1)]: Done   8 out of   8 | elapsed:   42.9s remaining:    0.0s\n"
     ]
    },
    {
     "name": "stdout",
     "output_type": "stream",
     "text": [
      "[CV]  rf__n_estimators=1000, rf__max_depth=12, rf__criterion=entropy, pca__n_components=9, score=0.512, total=   6.5s\n",
      "[CV] rf__n_estimators=1000, rf__max_depth=12, rf__criterion=entropy, pca__n_components=9 \n"
     ]
    },
    {
     "name": "stderr",
     "output_type": "stream",
     "text": [
      "[Parallel(n_jobs=1)]: Done   9 out of   9 | elapsed:   49.4s remaining:    0.0s\n"
     ]
    },
    {
     "name": "stdout",
     "output_type": "stream",
     "text": [
      "[CV]  rf__n_estimators=1000, rf__max_depth=12, rf__criterion=entropy, pca__n_components=9, score=0.400, total=   6.4s\n",
      "[CV] rf__n_estimators=500, rf__max_depth=1, rf__criterion=entropy, pca__n_components=6 \n",
      "[CV]  rf__n_estimators=500, rf__max_depth=1, rf__criterion=entropy, pca__n_components=6, score=0.375, total=   1.4s\n",
      "[CV] rf__n_estimators=500, rf__max_depth=1, rf__criterion=entropy, pca__n_components=6 \n",
      "[CV]  rf__n_estimators=500, rf__max_depth=1, rf__criterion=entropy, pca__n_components=6, score=0.390, total=   1.2s\n",
      "[CV] rf__n_estimators=500, rf__max_depth=1, rf__criterion=entropy, pca__n_components=6 \n",
      "[CV]  rf__n_estimators=500, rf__max_depth=1, rf__criterion=entropy, pca__n_components=6, score=0.362, total=   1.2s\n",
      "[CV] rf__n_estimators=500, rf__max_depth=1, rf__criterion=entropy, pca__n_components=6 \n",
      "[CV]  rf__n_estimators=500, rf__max_depth=1, rf__criterion=entropy, pca__n_components=6, score=0.383, total=   1.3s\n",
      "[CV] rf__n_estimators=500, rf__max_depth=1, rf__criterion=entropy, pca__n_components=6 \n",
      "[CV]  rf__n_estimators=500, rf__max_depth=1, rf__criterion=entropy, pca__n_components=6, score=0.400, total=   1.3s\n",
      "[CV] rf__n_estimators=900, rf__max_depth=8, rf__criterion=gini, pca__n_components=5 \n",
      "[CV]  rf__n_estimators=900, rf__max_depth=8, rf__criterion=gini, pca__n_components=5, score=0.340, total=   2.6s\n",
      "[CV] rf__n_estimators=900, rf__max_depth=8, rf__criterion=gini, pca__n_components=5 \n",
      "[CV]  rf__n_estimators=900, rf__max_depth=8, rf__criterion=gini, pca__n_components=5, score=0.367, total=   2.5s\n",
      "[CV] rf__n_estimators=900, rf__max_depth=8, rf__criterion=gini, pca__n_components=5 \n",
      "[CV]  rf__n_estimators=900, rf__max_depth=8, rf__criterion=gini, pca__n_components=5, score=0.307, total=   2.8s\n",
      "[CV] rf__n_estimators=900, rf__max_depth=8, rf__criterion=gini, pca__n_components=5 \n",
      "[CV]  rf__n_estimators=900, rf__max_depth=8, rf__criterion=gini, pca__n_components=5, score=0.325, total=   3.2s\n",
      "[CV] rf__n_estimators=900, rf__max_depth=8, rf__criterion=gini, pca__n_components=5 \n",
      "[CV]  rf__n_estimators=900, rf__max_depth=8, rf__criterion=gini, pca__n_components=5, score=0.263, total=   3.2s\n",
      "[CV] rf__n_estimators=500, rf__max_depth=17, rf__criterion=entropy, pca__n_components=5 \n",
      "[CV]  rf__n_estimators=500, rf__max_depth=17, rf__criterion=entropy, pca__n_components=5, score=0.302, total=   3.7s\n",
      "[CV] rf__n_estimators=500, rf__max_depth=17, rf__criterion=entropy, pca__n_components=5 \n",
      "[CV]  rf__n_estimators=500, rf__max_depth=17, rf__criterion=entropy, pca__n_components=5, score=0.330, total=   3.6s\n",
      "[CV] rf__n_estimators=500, rf__max_depth=17, rf__criterion=entropy, pca__n_components=5 \n",
      "[CV]  rf__n_estimators=500, rf__max_depth=17, rf__criterion=entropy, pca__n_components=5, score=0.282, total=   3.5s\n",
      "[CV] rf__n_estimators=500, rf__max_depth=17, rf__criterion=entropy, pca__n_components=5 \n",
      "[CV]  rf__n_estimators=500, rf__max_depth=17, rf__criterion=entropy, pca__n_components=5, score=0.352, total=   3.0s\n",
      "[CV] rf__n_estimators=500, rf__max_depth=17, rf__criterion=entropy, pca__n_components=5 \n",
      "[CV]  rf__n_estimators=500, rf__max_depth=17, rf__criterion=entropy, pca__n_components=5, score=0.253, total=   3.1s\n",
      "[CV] rf__n_estimators=300, rf__max_depth=2, rf__criterion=gini, pca__n_components=9 \n",
      "[CV]  rf__n_estimators=300, rf__max_depth=2, rf__criterion=gini, pca__n_components=9, score=0.395, total=   0.8s\n",
      "[CV] rf__n_estimators=300, rf__max_depth=2, rf__criterion=gini, pca__n_components=9 \n",
      "[CV]  rf__n_estimators=300, rf__max_depth=2, rf__criterion=gini, pca__n_components=9, score=0.430, total=   0.8s\n",
      "[CV] rf__n_estimators=300, rf__max_depth=2, rf__criterion=gini, pca__n_components=9 \n",
      "[CV]  rf__n_estimators=300, rf__max_depth=2, rf__criterion=gini, pca__n_components=9, score=0.445, total=   0.8s\n",
      "[CV] rf__n_estimators=300, rf__max_depth=2, rf__criterion=gini, pca__n_components=9 \n",
      "[CV]  rf__n_estimators=300, rf__max_depth=2, rf__criterion=gini, pca__n_components=9, score=0.465, total=   0.8s\n",
      "[CV] rf__n_estimators=300, rf__max_depth=2, rf__criterion=gini, pca__n_components=9 \n",
      "[CV]  rf__n_estimators=300, rf__max_depth=2, rf__criterion=gini, pca__n_components=9, score=0.417, total=   0.8s\n",
      "[CV] rf__n_estimators=800, rf__max_depth=12, rf__criterion=entropy, pca__n_components=8 \n",
      "[CV]  rf__n_estimators=800, rf__max_depth=12, rf__criterion=entropy, pca__n_components=8, score=0.395, total=   4.2s\n",
      "[CV] rf__n_estimators=800, rf__max_depth=12, rf__criterion=entropy, pca__n_components=8 \n",
      "[CV]  rf__n_estimators=800, rf__max_depth=12, rf__criterion=entropy, pca__n_components=8, score=0.430, total=   4.3s\n",
      "[CV] rf__n_estimators=800, rf__max_depth=12, rf__criterion=entropy, pca__n_components=8 \n",
      "[CV]  rf__n_estimators=800, rf__max_depth=12, rf__criterion=entropy, pca__n_components=8, score=0.372, total=   4.3s\n",
      "[CV] rf__n_estimators=800, rf__max_depth=12, rf__criterion=entropy, pca__n_components=8 \n",
      "[CV]  rf__n_estimators=800, rf__max_depth=12, rf__criterion=entropy, pca__n_components=8, score=0.410, total=   4.5s\n",
      "[CV] rf__n_estimators=800, rf__max_depth=12, rf__criterion=entropy, pca__n_components=8 \n",
      "[CV]  rf__n_estimators=800, rf__max_depth=12, rf__criterion=entropy, pca__n_components=8, score=0.415, total=   6.0s\n",
      "[CV] rf__n_estimators=600, rf__max_depth=10, rf__criterion=entropy, pca__n_components=9 \n",
      "[CV]  rf__n_estimators=600, rf__max_depth=10, rf__criterion=entropy, pca__n_components=9, score=0.422, total=   5.1s\n",
      "[CV] rf__n_estimators=600, rf__max_depth=10, rf__criterion=entropy, pca__n_components=9 \n",
      "[CV]  rf__n_estimators=600, rf__max_depth=10, rf__criterion=entropy, pca__n_components=9, score=0.455, total=   5.2s\n",
      "[CV] rf__n_estimators=600, rf__max_depth=10, rf__criterion=entropy, pca__n_components=9 \n",
      "[CV]  rf__n_estimators=600, rf__max_depth=10, rf__criterion=entropy, pca__n_components=9, score=0.487, total=   5.6s\n",
      "[CV] rf__n_estimators=600, rf__max_depth=10, rf__criterion=entropy, pca__n_components=9 \n",
      "[CV]  rf__n_estimators=600, rf__max_depth=10, rf__criterion=entropy, pca__n_components=9, score=0.500, total=   5.6s\n",
      "[CV] rf__n_estimators=600, rf__max_depth=10, rf__criterion=entropy, pca__n_components=9 \n",
      "[CV]  rf__n_estimators=600, rf__max_depth=10, rf__criterion=entropy, pca__n_components=9, score=0.430, total=   5.6s\n",
      "[CV] rf__n_estimators=1300, rf__max_depth=16, rf__criterion=gini, pca__n_components=8 \n",
      "[CV]  rf__n_estimators=1300, rf__max_depth=16, rf__criterion=gini, pca__n_components=8, score=0.378, total=   5.9s\n",
      "[CV] rf__n_estimators=1300, rf__max_depth=16, rf__criterion=gini, pca__n_components=8 \n",
      "[CV]  rf__n_estimators=1300, rf__max_depth=16, rf__criterion=gini, pca__n_components=8, score=0.430, total=   5.5s\n",
      "[CV] rf__n_estimators=1300, rf__max_depth=16, rf__criterion=gini, pca__n_components=8 \n",
      "[CV]  rf__n_estimators=1300, rf__max_depth=16, rf__criterion=gini, pca__n_components=8, score=0.380, total=   6.2s\n",
      "[CV] rf__n_estimators=1300, rf__max_depth=16, rf__criterion=gini, pca__n_components=8 \n",
      "[CV]  rf__n_estimators=1300, rf__max_depth=16, rf__criterion=gini, pca__n_components=8, score=0.405, total=   5.6s\n",
      "[CV] rf__n_estimators=1300, rf__max_depth=16, rf__criterion=gini, pca__n_components=8 \n",
      "[CV]  rf__n_estimators=1300, rf__max_depth=16, rf__criterion=gini, pca__n_components=8, score=0.422, total=   6.0s\n",
      "[CV] rf__n_estimators=700, rf__max_depth=16, rf__criterion=entropy, pca__n_components=9 \n",
      "[CV]  rf__n_estimators=700, rf__max_depth=16, rf__criterion=entropy, pca__n_components=9, score=0.388, total=   5.2s\n",
      "[CV] rf__n_estimators=700, rf__max_depth=16, rf__criterion=entropy, pca__n_components=9 \n",
      "[CV]  rf__n_estimators=700, rf__max_depth=16, rf__criterion=entropy, pca__n_components=9, score=0.485, total=   4.7s\n",
      "[CV] rf__n_estimators=700, rf__max_depth=16, rf__criterion=entropy, pca__n_components=9 \n",
      "[CV]  rf__n_estimators=700, rf__max_depth=16, rf__criterion=entropy, pca__n_components=9, score=0.470, total=   4.5s\n",
      "[CV] rf__n_estimators=700, rf__max_depth=16, rf__criterion=entropy, pca__n_components=9 \n",
      "[CV]  rf__n_estimators=700, rf__max_depth=16, rf__criterion=entropy, pca__n_components=9, score=0.510, total=   6.0s\n",
      "[CV] rf__n_estimators=700, rf__max_depth=16, rf__criterion=entropy, pca__n_components=9 \n",
      "[CV]  rf__n_estimators=700, rf__max_depth=16, rf__criterion=entropy, pca__n_components=9, score=0.417, total=   6.3s\n"
     ]
    },
    {
     "name": "stderr",
     "output_type": "stream",
     "text": [
      "[Parallel(n_jobs=1)]: Done  50 out of  50 | elapsed:  3.4min finished\n"
     ]
    },
    {
     "data": {
      "text/plain": [
       "RandomizedSearchCV(cv=5,\n",
       "                   estimator=Pipeline(steps=[('scaling', StandardScaler()),\n",
       "                                             ('pca', PCA()),\n",
       "                                             ('rf',\n",
       "                                              RandomForestClassifier(n_jobs=-1))]),\n",
       "                   n_jobs=1,\n",
       "                   param_distributions={'pca__n_components': array([5, 6, 7, 8, 9]),\n",
       "                                        'rf__criterion': ['gini', 'entropy'],\n",
       "                                        'rf__max_depth': array([ 1,  2,  3,  4,  5,  6,  7,  8,  9, 10, 11, 12, 13, 14, 15, 16, 17,\n",
       "       18, 19]),\n",
       "                                        'rf__n_estimators': array([ 100,  200,  300,  400,  500,  600,  700,  800,  900, 1000, 1100,\n",
       "       1200, 1300, 1400])},\n",
       "                   scoring='accuracy', verbose=10)"
      ]
     },
     "execution_count": 32,
     "metadata": {},
     "output_type": "execute_result"
    }
   ],
   "source": [
    "model = model_selection.RandomizedSearchCV(\n",
    "    estimator=classifier,\n",
    "    param_distributions=param_grid,\n",
    "    n_iter=10,\n",
    "    scoring='accuracy',\n",
    "    verbose=10,\n",
    "    n_jobs=1,\n",
    "    cv=5,\n",
    "    #n_iter=10 ## 10 random iteration or random search (optional)\n",
    ")\n",
    "model.fit(X,y)"
   ]
  },
  {
   "cell_type": "markdown",
   "metadata": {},
   "source": [
    "# Bayesian optimization"
   ]
  },
  {
   "cell_type": "code",
   "execution_count": 8,
   "metadata": {},
   "outputs": [],
   "source": [
    "from functools import partial\n",
    "from skopt import space\n",
    "from skopt import gp_minimize"
   ]
  },
  {
   "cell_type": "code",
   "execution_count": 8,
   "metadata": {},
   "outputs": [],
   "source": [
    "df = pd.read_csv('train.csv')\n",
    "X = df.drop('price_range',axis=1).values\n",
    "y = df.price_range.values"
   ]
  },
  {
   "cell_type": "code",
   "execution_count": 9,
   "metadata": {},
   "outputs": [],
   "source": [
    "def optimize(params,param_names,x,y):\n",
    "    params = dict(zip(param_names,params))\n",
    "    model = ensemble.RandomForestClassifier(**params)\n",
    "    kf = model_selection.StratifiedKFold(n_splits=5)\n",
    "    accuracies = []\n",
    "    for idx in kf.split(X=x,y=y):\n",
    "        train_idx, test_idx = idx[0],idx[1]\n",
    "        xtrain = x[train_idx]\n",
    "        ytrain = y[train_idx]\n",
    "        \n",
    "        xtest = x[test_idx]\n",
    "        ytest = y[test_idx]\n",
    "        \n",
    "        model.fit(xtrain,ytrain)\n",
    "        preds = model.predict(xtest)\n",
    "        fold_acc = metrics.accuracy_score(ytest,preds)\n",
    "        accuracies.append(fold_acc)\n",
    "    return -1.0 * np.mean(accuracies)"
   ]
  },
  {
   "cell_type": "code",
   "execution_count": 10,
   "metadata": {},
   "outputs": [],
   "source": [
    "param_space = [\n",
    "    space.Integer(3,15,name='max_depth'),\n",
    "    space.Integer(100,600,name='n_estimators'),\n",
    "    space.Categorical(['gini','entropy'],name='criterion'),\n",
    "    space.Real(0.01,1,prior='uniform',name='max_features')\n",
    "]\n",
    "param_names = [\n",
    "    'max_depth',\n",
    "    'n_estimators',\n",
    "    'criterion',\n",
    "    'max_features'\n",
    "]"
   ]
  },
  {
   "cell_type": "code",
   "execution_count": 11,
   "metadata": {},
   "outputs": [],
   "source": [
    "optimization_function = partial(\n",
    "        optimize,\n",
    "        param_names =param_names,\n",
    "        x=X,\n",
    "        y=y\n",
    ")"
   ]
  },
  {
   "cell_type": "code",
   "execution_count": 12,
   "metadata": {},
   "outputs": [
    {
     "name": "stdout",
     "output_type": "stream",
     "text": [
      "Iteration No: 1 started. Evaluating function at random point.\n",
      "Iteration No: 1 ended. Evaluation done at random point.\n",
      "Time taken: 24.9219\n",
      "Function value obtained: -0.8965\n",
      "Current minimum: -0.8965\n",
      "Iteration No: 2 started. Evaluating function at random point.\n",
      "Iteration No: 2 ended. Evaluation done at random point.\n",
      "Time taken: 21.5847\n",
      "Function value obtained: -0.9005\n",
      "Current minimum: -0.9005\n",
      "Iteration No: 3 started. Evaluating function at random point.\n",
      "Iteration No: 3 ended. Evaluation done at random point.\n",
      "Time taken: 8.9859\n",
      "Function value obtained: -0.9035\n",
      "Current minimum: -0.9035\n",
      "Iteration No: 4 started. Evaluating function at random point.\n",
      "Iteration No: 4 ended. Evaluation done at random point.\n",
      "Time taken: 23.7264\n",
      "Function value obtained: -0.9020\n",
      "Current minimum: -0.9035\n",
      "Iteration No: 5 started. Evaluating function at random point.\n",
      "Iteration No: 5 ended. Evaluation done at random point.\n",
      "Time taken: 18.6623\n",
      "Function value obtained: -0.8995\n",
      "Current minimum: -0.9035\n",
      "Iteration No: 6 started. Evaluating function at random point.\n",
      "Iteration No: 6 ended. Evaluation done at random point.\n",
      "Time taken: 9.0788\n",
      "Function value obtained: -0.9070\n",
      "Current minimum: -0.9070\n",
      "Iteration No: 7 started. Evaluating function at random point.\n",
      "Iteration No: 7 ended. Evaluation done at random point.\n",
      "Time taken: 3.5909\n",
      "Function value obtained: -0.7515\n",
      "Current minimum: -0.9070\n",
      "Iteration No: 8 started. Evaluating function at random point.\n",
      "Iteration No: 8 ended. Evaluation done at random point.\n",
      "Time taken: 10.5120\n",
      "Function value obtained: -0.8910\n",
      "Current minimum: -0.9070\n",
      "Iteration No: 9 started. Evaluating function at random point.\n",
      "Iteration No: 9 ended. Evaluation done at random point.\n",
      "Time taken: 17.6749\n",
      "Function value obtained: -0.9065\n",
      "Current minimum: -0.9070\n",
      "Iteration No: 10 started. Evaluating function at random point.\n",
      "Iteration No: 10 ended. Evaluation done at random point.\n",
      "Time taken: 17.6217\n",
      "Function value obtained: -0.8920\n",
      "Current minimum: -0.9070\n",
      "Iteration No: 11 started. Searching for the next optimal point.\n",
      "Iteration No: 11 ended. Search finished for the next optimal point.\n",
      "Time taken: 6.2644\n",
      "Function value obtained: -0.9030\n",
      "Current minimum: -0.9070\n",
      "Iteration No: 12 started. Searching for the next optimal point.\n",
      "Iteration No: 12 ended. Search finished for the next optimal point.\n",
      "Time taken: 38.9238\n",
      "Function value obtained: -0.9070\n",
      "Current minimum: -0.9070\n",
      "Iteration No: 13 started. Searching for the next optimal point.\n",
      "Iteration No: 13 ended. Search finished for the next optimal point.\n",
      "Time taken: 25.1157\n",
      "Function value obtained: -0.7640\n",
      "Current minimum: -0.9070\n",
      "Iteration No: 14 started. Searching for the next optimal point.\n",
      "Iteration No: 14 ended. Search finished for the next optimal point.\n",
      "Time taken: 8.1893\n",
      "Function value obtained: -0.9020\n",
      "Current minimum: -0.9070\n",
      "Iteration No: 15 started. Searching for the next optimal point.\n",
      "Iteration No: 15 ended. Search finished for the next optimal point.\n",
      "Time taken: 32.2266\n",
      "Function value obtained: -0.9065\n",
      "Current minimum: -0.9070\n"
     ]
    }
   ],
   "source": [
    "result = gp_minimize(optimization_function,\n",
    "                     dimensions=param_space,\n",
    "                    n_calls = 15,\n",
    "                    n_random_starts=10,\n",
    "                    verbose=10)"
   ]
  },
  {
   "cell_type": "code",
   "execution_count": 14,
   "metadata": {},
   "outputs": [
    {
     "name": "stdout",
     "output_type": "stream",
     "text": [
      "{'max_depth': 13, 'n_estimators': 132, 'criterion': 'entropy', 'max_features': 0.9010168636941205}\n"
     ]
    }
   ],
   "source": [
    "print(dict(zip(param_names,result.x)))"
   ]
  },
  {
   "cell_type": "markdown",
   "metadata": {},
   "source": [
    "## hyperopt"
   ]
  },
  {
   "cell_type": "code",
   "execution_count": 14,
   "metadata": {},
   "outputs": [],
   "source": [
    "from hyperopt import hp,fmin,tpe,Trials\n",
    "from hyperopt.pyll.base import scope"
   ]
  },
  {
   "cell_type": "code",
   "execution_count": 15,
   "metadata": {},
   "outputs": [],
   "source": [
    "df = pd.read_csv('train.csv')\n",
    "X = df.drop('price_range',axis=1).values\n",
    "y = df.price_range.values"
   ]
  },
  {
   "cell_type": "code",
   "execution_count": 16,
   "metadata": {},
   "outputs": [],
   "source": [
    "def optimize(params,x,y):\n",
    "    \n",
    "    model = ensemble.RandomForestClassifier(**params)\n",
    "    kf = model_selection.StratifiedKFold(n_splits=5)\n",
    "    accuracies = []\n",
    "    for idx in kf.split(X=x,y=y):\n",
    "        train_idx, test_idx = idx[0],idx[1]\n",
    "        xtrain = x[train_idx]\n",
    "        ytrain = y[train_idx]\n",
    "        \n",
    "        xtest = x[test_idx]\n",
    "        ytest = y[test_idx]\n",
    "        \n",
    "        model.fit(xtrain,ytrain)\n",
    "        preds = model.predict(xtest)\n",
    "        fold_acc = metrics.accuracy_score(ytest,preds)\n",
    "        accuracies.append(fold_acc)\n",
    "    return -1.0 * np.mean(accuracies)"
   ]
  },
  {
   "cell_type": "code",
   "execution_count": 17,
   "metadata": {},
   "outputs": [],
   "source": [
    "param_space = {\n",
    "    'max_depth': scope.int(hp.quniform('max_depth',3,15,1)),\n",
    "    'n_estimators': scope.int(hp.quniform('n_estimators',100,600,1)),\n",
    "    'criterion': hp.choice('criterion',['gini','entropy']),\n",
    "    'max_features': hp.uniform('max_features',0.01,1,)\n",
    "}\n",
    "\n",
    "optimization_function = partial(optimize,x=X,y=y)\n",
    "\n",
    "trials = Trials()\n",
    "\n"
   ]
  },
  {
   "cell_type": "code",
   "execution_count": 18,
   "metadata": {},
   "outputs": [
    {
     "name": "stdout",
     "output_type": "stream",
     "text": [
      "100%|████████████████████████████████████████████████████████████| 15/15 [03:39<00:00, 14.63s/trial, best loss: -0.905]\n"
     ]
    }
   ],
   "source": [
    "result = fmin(fn=optimization_function,\n",
    "                    space=param_space,\n",
    "                    algo=tpe.suggest,\n",
    "                    max_evals = 15,\n",
    "                    trials=trials)"
   ]
  },
  {
   "cell_type": "code",
   "execution_count": 19,
   "metadata": {},
   "outputs": [
    {
     "name": "stdout",
     "output_type": "stream",
     "text": [
      "{'criterion': 1, 'max_depth': 7.0, 'max_features': 0.8728358587204439, 'n_estimators': 295.0}\n"
     ]
    }
   ],
   "source": [
    "print(result)"
   ]
  },
  {
   "cell_type": "markdown",
   "metadata": {},
   "source": [
    "## optuna"
   ]
  },
  {
   "cell_type": "code",
   "execution_count": 20,
   "metadata": {},
   "outputs": [],
   "source": [
    "import optuna"
   ]
  },
  {
   "cell_type": "code",
   "execution_count": 21,
   "metadata": {},
   "outputs": [],
   "source": [
    "df = pd.read_csv('train.csv')\n",
    "X = df.drop('price_range',axis=1).values\n",
    "y = df.price_range.values"
   ]
  },
  {
   "cell_type": "code",
   "execution_count": 29,
   "metadata": {},
   "outputs": [],
   "source": [
    "def optimize(trial,x,y):\n",
    "    criterion = trial.suggest_categorical('criterion',['gini','entropy'])\n",
    "    n_estimators = trial.suggest_int('n_estimators',100,500)\n",
    "    max_depth = trial.suggest_int('max_depth',3,15)\n",
    "    max_features = trial.suggest_uniform('max_features',0.01,1.0)\n",
    "    \n",
    "    model = ensemble.RandomForestClassifier(\n",
    "    criterion=criterion,\n",
    "    n_estimators=n_estimators,\n",
    "    max_depth=max_depth,\n",
    "    max_features=max_features\n",
    "    )\n",
    "    kf = model_selection.StratifiedKFold(n_splits=5)\n",
    "    accuracies = []\n",
    "    for idx in kf.split(X=x,y=y):\n",
    "        train_idx, test_idx = idx[0],idx[1]\n",
    "        xtrain = x[train_idx]\n",
    "        ytrain = y[train_idx]\n",
    "        \n",
    "        xtest = x[test_idx]\n",
    "        ytest = y[test_idx]\n",
    "        \n",
    "        model.fit(xtrain,ytrain)\n",
    "        preds = model.predict(xtest)\n",
    "        fold_acc = metrics.accuracy_score(ytest,preds)\n",
    "        accuracies.append(fold_acc)\n",
    "    return -1.0 * np.mean(accuracies)"
   ]
  },
  {
   "cell_type": "code",
   "execution_count": 30,
   "metadata": {},
   "outputs": [],
   "source": [
    "optimization_function = partial(optimize,x=X,y=y)"
   ]
  },
  {
   "cell_type": "code",
   "execution_count": 31,
   "metadata": {},
   "outputs": [
    {
     "name": "stderr",
     "output_type": "stream",
     "text": [
      "\u001b[32m[I 2021-06-17 16:46:47,449]\u001b[0m A new study created in memory with name: no-name-1d2499aa-93dd-4567-8506-fa3a27228216\u001b[0m\n",
      "\u001b[32m[I 2021-06-17 16:47:02,747]\u001b[0m Trial 0 finished with value: -0.8989999999999998 and parameters: {'criterion': 'gini', 'n_estimators': 395, 'max_depth': 14, 'max_features': 0.49811982585923564}. Best is trial 0 with value: -0.8989999999999998.\u001b[0m\n",
      "\u001b[32m[I 2021-06-17 16:47:24,521]\u001b[0m Trial 1 finished with value: -0.8275 and parameters: {'criterion': 'gini', 'n_estimators': 425, 'max_depth': 4, 'max_features': 0.9434517990114261}. Best is trial 0 with value: -0.8989999999999998.\u001b[0m\n",
      "\u001b[32m[I 2021-06-17 16:47:27,931]\u001b[0m Trial 2 finished with value: -0.8770000000000001 and parameters: {'criterion': 'gini', 'n_estimators': 104, 'max_depth': 12, 'max_features': 0.2201007116086529}. Best is trial 0 with value: -0.8989999999999998.\u001b[0m\n",
      "\u001b[32m[I 2021-06-17 16:47:31,432]\u001b[0m Trial 3 finished with value: -0.8240000000000001 and parameters: {'criterion': 'entropy', 'n_estimators': 101, 'max_depth': 15, 'max_features': 0.13730652847389363}. Best is trial 0 with value: -0.8989999999999998.\u001b[0m\n",
      "\u001b[32m[I 2021-06-17 16:47:41,098]\u001b[0m Trial 4 finished with value: -0.8855000000000001 and parameters: {'criterion': 'entropy', 'n_estimators': 209, 'max_depth': 7, 'max_features': 0.36415797834169894}. Best is trial 0 with value: -0.8989999999999998.\u001b[0m\n",
      "\u001b[32m[I 2021-06-17 16:47:51,789]\u001b[0m Trial 5 finished with value: -0.8915000000000001 and parameters: {'criterion': 'gini', 'n_estimators': 157, 'max_depth': 11, 'max_features': 0.9814512562863474}. Best is trial 0 with value: -0.8989999999999998.\u001b[0m\n",
      "\u001b[32m[I 2021-06-17 16:48:19,992]\u001b[0m Trial 6 finished with value: -0.8835 and parameters: {'criterion': 'gini', 'n_estimators': 441, 'max_depth': 7, 'max_features': 0.9238831770081823}. Best is trial 0 with value: -0.8989999999999998.\u001b[0m\n",
      "\u001b[32m[I 2021-06-17 16:48:22,404]\u001b[0m Trial 7 finished with value: -0.7755 and parameters: {'criterion': 'gini', 'n_estimators': 129, 'max_depth': 4, 'max_features': 0.12289163406916703}. Best is trial 0 with value: -0.8989999999999998.\u001b[0m\n",
      "\u001b[32m[I 2021-06-17 16:48:31,409]\u001b[0m Trial 8 finished with value: -0.7865 and parameters: {'criterion': 'gini', 'n_estimators': 475, 'max_depth': 4, 'max_features': 0.10269627596264587}. Best is trial 0 with value: -0.8989999999999998.\u001b[0m\n",
      "\u001b[32m[I 2021-06-17 16:48:56,555]\u001b[0m Trial 9 finished with value: -0.9024999999999999 and parameters: {'criterion': 'entropy', 'n_estimators': 376, 'max_depth': 14, 'max_features': 0.4118973940443144}. Best is trial 9 with value: -0.9024999999999999.\u001b[0m\n",
      "\u001b[32m[I 2021-06-17 16:49:23,301]\u001b[0m Trial 10 finished with value: -0.9065000000000001 and parameters: {'criterion': 'entropy', 'n_estimators': 319, 'max_depth': 13, 'max_features': 0.7204487503831121}. Best is trial 10 with value: -0.9065000000000001.\u001b[0m\n",
      "\u001b[32m[I 2021-06-17 16:49:45,925]\u001b[0m Trial 11 finished with value: -0.9099999999999999 and parameters: {'criterion': 'entropy', 'n_estimators': 318, 'max_depth': 13, 'max_features': 0.7059718284856326}. Best is trial 11 with value: -0.9099999999999999.\u001b[0m\n",
      "\u001b[32m[I 2021-06-17 16:50:06,990]\u001b[0m Trial 12 finished with value: -0.9075 and parameters: {'criterion': 'entropy', 'n_estimators': 283, 'max_depth': 11, 'max_features': 0.7412254462525925}. Best is trial 11 with value: -0.9099999999999999.\u001b[0m\n",
      "\u001b[32m[I 2021-06-17 16:50:26,401]\u001b[0m Trial 13 finished with value: -0.9055 and parameters: {'criterion': 'entropy', 'n_estimators': 247, 'max_depth': 10, 'max_features': 0.7240802945261288}. Best is trial 11 with value: -0.9099999999999999.\u001b[0m\n",
      "\u001b[32m[I 2021-06-17 16:50:51,473]\u001b[0m Trial 14 finished with value: -0.9055 and parameters: {'criterion': 'entropy', 'n_estimators': 311, 'max_depth': 8, 'max_features': 0.7202848198384831}. Best is trial 11 with value: -0.9099999999999999.\u001b[0m\n"
     ]
    }
   ],
   "source": [
    "study = optuna.create_study(direction='minimize')\n",
    "study.optimize(optimization_function,n_trials=15)"
   ]
  },
  {
   "cell_type": "code",
   "execution_count": null,
   "metadata": {},
   "outputs": [],
   "source": []
  }
 ],
 "metadata": {
  "kernelspec": {
   "display_name": "Python 3",
   "language": "python",
   "name": "python3"
  },
  "language_info": {
   "codemirror_mode": {
    "name": "ipython",
    "version": 3
   },
   "file_extension": ".py",
   "mimetype": "text/x-python",
   "name": "python",
   "nbconvert_exporter": "python",
   "pygments_lexer": "ipython3",
   "version": "3.8.3"
  }
 },
 "nbformat": 4,
 "nbformat_minor": 4
}
